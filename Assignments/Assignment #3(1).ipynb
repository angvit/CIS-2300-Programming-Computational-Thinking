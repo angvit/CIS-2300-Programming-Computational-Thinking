{
 "cells": [
  {
   "cell_type": "code",
   "execution_count": null,
   "metadata": {},
   "outputs": [],
   "source": [
    "Enter your name here: Angelo Vitalino"
   ]
  },
  {
   "cell_type": "markdown",
   "metadata": {},
   "source": [
    "## ICE3\n",
    "\n",
    "Start by creating pseudocode or a flowchart; do not submit these.\n",
    "\n",
    "Code should be commented. \n",
    "\n",
    "Test your code under various conditions.\n",
    "\n",
    "Turn on line numbering by using Esc (top-left corner) l (lowercase L).\n",
    "\n",
    "A code cell must be followed by  cell(s) that demonstrate the successful execution of the code.  \n",
    "\n",
    "You may __only use Python language features that have been covered in the assigned portions of the text or in class__.  This is to discourage students from finding solutions on the web and copying them.\n",
    "\n",
    "Submit the notebook file using Blackboard by the due date posted there."
   ]
  },
  {
   "cell_type": "markdown",
   "metadata": {},
   "source": [
    "### Exer-1: \n",
    "\n",
    "Write a program to get (input) the user's first name, last name, street address, city, state, zipcode and then print the output in a format similar to below.  These fields (first name, last name, etc.) should be input and output separately, i.e., city, state and zipcode are three variables, not one long string; the street address __IS__ one string: <br> <br>\n",
    "Radhika Jain<br>\n",
    "1 Bernard Baruch Way<br>\n",
    "New York, NY 10010\n"
   ]
  },
  {
   "cell_type": "code",
   "execution_count": 13,
   "metadata": {},
   "outputs": [
    {
     "name": "stdout",
     "output_type": "stream",
     "text": [
      "What is your first name? Takumi\n",
      "What is your last name? Fujiwara\n",
      "What is your street address? Fujiwara Tofu Shop Lane\n",
      "Which city do you live in? Akina\n",
      "Which state do you live in? JPN\n",
      "What is your city's zip code ? 86000\n",
      "Takumi Fujiwara\n",
      "Fujiwara Tofu Shop Lane\n",
      "Akina, JPN 86000\n"
     ]
    }
   ],
   "source": [
    "# Exer-1\n",
    "first_name = input(\"What is your first name? \")\n",
    "last_name = input(\"What is your last name? \")\n",
    "street_address = input(\"What is your street address? \")\n",
    "city = input(\"Which city do you live in? \")\n",
    "state = input(\"Which state do you live in? \")\n",
    "zipcode = input(\"What is your city's zip code ? \")\n",
    "\n",
    "print(f\"{first_name} {last_name}\\n{street_address}\\n{city}, {state} {zipcode}\")"
   ]
  },
  {
   "cell_type": "code",
   "execution_count": 48,
   "metadata": {},
   "outputs": [
    {
     "name": "stdout",
     "output_type": "stream",
     "text": [
      "15 -5 50 0 -1 0.5 9765625 5\n"
     ]
    }
   ],
   "source": [
    "num1 = 5   # An assignment statement\n",
    "num2 = 10\n",
    "num3 = -10\n",
    "\n",
    "result_add = num1+num2    # A math expression preforms a calculation and give a value \n",
    "result_sub = num1-num2\n",
    "result_mult = num1*num2\n",
    "\n",
    "result_iDiv = num1//num2        # integer division with positive result rounds down\n",
    "result_iDivneg = num1//num3     # integer division with negative result rounds away from zero\n",
    "# Wondering why?  see http://python-history.blogspot.com/2010/08/why-pythons-integer-division-floors.html\n",
    "\n",
    "result_fDiv = num1/num2\n",
    "result_exp = num1**num2\n",
    "result_rem = num1%num2   # known as the modulus operator\n",
    "\n",
    "print(result_add, result_sub, result_mult, result_iDiv, result_iDivneg, result_fDiv, result_exp, result_rem)"
   ]
  },
  {
   "cell_type": "markdown",
   "metadata": {},
   "source": [
    "### Exer-2: \n",
    "\n",
    "Write a Python program that asks the user to enter two numbers. For those two numbers perform each of the above mathematical operations and display the result. For example, once the user inputs two numbers, your output should be something like below:\n",
    "\n",
    "Addition of the two numbers that you entered results in: ...\n",
    "\n",
    "Subtraction of the two numbers that you entered results in: ...\n",
    "\n",
    "..................... (and so on)\n",
    "***************************************\n"
   ]
  },
  {
   "cell_type": "code",
   "execution_count": 19,
   "metadata": {},
   "outputs": [
    {
     "name": "stdout",
     "output_type": "stream",
     "text": [
      "Please enter a number: 4\n",
      "Please enter a second number: 7\n",
      "Number 1 is equal to: 4. Number 2 is equal to: 7.\n",
      "Computation results:\n",
      "11\n",
      "-3\n",
      "28\n",
      "0\n",
      "0.5714285714285714\n",
      "16384\n",
      "4\n"
     ]
    }
   ],
   "source": [
    "# Exer-2\n",
    "number1 = int(input(\"Please enter a number: \"))\n",
    "number2 = int(input(\"Please enter a second number: \"))\n",
    "\n",
    "result_add = number1 + number2\n",
    "result_sub = number1 - number2\n",
    "result_mult = number1 * number2\n",
    "\n",
    "result_intDiv = number1 // number2\n",
    "result_fltDiv = number1 / number2\n",
    "result_exp = number1 ** number2\n",
    "result_rem = number1 % number2\n",
    "\n",
    "print(f\"Number 1 is equal to: {number1}. Number 2 is equal to: {number2}.\\nComputation results:\\n{result_add}\\n{result_sub}\\n{result_mult}\\n{result_intDiv}\\n{result_fltDiv}\\n{result_exp}\\n{result_rem}\")"
   ]
  },
  {
   "cell_type": "markdown",
   "metadata": {},
   "source": [
    "### Exer-3: \n",
    "\n",
    "Write a Python program that asks the user for the number of miles driven and the gallons of gas used. It should calculate the car’s MPG (Miles per Gallon) and display the result. Write the algorithm/pseudocode/flowchart first and the corresponding code for the program to display the MPG value."
   ]
  },
  {
   "cell_type": "code",
   "execution_count": 31,
   "metadata": {},
   "outputs": [
    {
     "name": "stdout",
     "output_type": "stream",
     "text": [
      "How many numbers of miles driven? 265\n",
      "How many gallons of gas were used? 8\n",
      "33.125\n"
     ]
    }
   ],
   "source": [
    "# Exer-3\n",
    "\n",
    "miles_Driv = float(input(\"How many numbers of miles driven? \"))\n",
    "gal_Used = float(input(\"How many gallons of gas were used? \"))\n",
    "MPG = (miles_Driv) / (gal_Used) \n",
    "print(MPG)"
   ]
  },
  {
   "cell_type": "markdown",
   "metadata": {},
   "source": [
    "### Exer-4: \n",
    "\n",
    "Many people keep time using a 24-hour clock (11 is 11 AM and 23 is 11 PM, 0 is midnight). As an example, if it is currently 13 and you set your alarm to go off in 50 hours, it will go off at 15 (3 PM).  Ask the user for the time now (in hours), and then ask for the number of hours to wait for the alarm. Write the algorithm/pseudocode/flowchart first and the corresponding Python program to solve the general version of the above problem. Your program should output what the time will be on the clock in 24-hour format when the alarm goes off. Consider only whole hours, i.e., do not worry about minutes and seconds for now.\n",
    "\n",
    "You should test various scenarios to make sure that your code performs correctly in all cases.\n",
    "\n",
    "For example, test the code with a current time before midnight and the alarm going off beforo midnight. <br> \n",
    "With a current time before midnight, test the code with the alarm going off after midnight.\n",
    "\n",
    "You may wish to refer to Program 2-17 in the text for an example of the use of modulo arithmetic.\n",
    "\n",
    "Sample output follows:"
   ]
  },
  {
   "cell_type": "raw",
   "metadata": {},
   "source": [
    "Enter the current military time (hours only): 22\n",
    "Enter the number of hours until the alarm sounds: 12\n",
    "The alarm will go off at:  10 hours"
   ]
  },
  {
   "cell_type": "code",
   "execution_count": 50,
   "metadata": {},
   "outputs": [
    {
     "name": "stdout",
     "output_type": "stream",
     "text": [
      "Enter the current military time (hours only): 22\n",
      "Enter the number of hours until the alarm sounds: 26\n",
      "The alarm will go off at: 0 hours\n"
     ]
    }
   ],
   "source": [
    "# Exer-4\n",
    "\n",
    "#(22 + 12) % 12: Sample output is calculated with this formula \n",
    "\n",
    "current_time = int(input(\"Enter the current military time (hours only): \"))\n",
    "hours_to_wait = int(input(\"Enter the number of hours until the alarm sounds: \"))\n",
    "new_time = (current_time + hours_to_wait) % 12\n",
    "print(\"The alarm will go off at:\", new_time, \"hours\")"
   ]
  },
  {
   "cell_type": "markdown",
   "metadata": {},
   "source": [
    "### Exer-5: \n",
    "\n",
    "Write a program that asks the user for their weight (in pounds) and height (in inches). Calculate and output their BMI. The formula for BMI: 703 * weight (lbs) / [height (in)]^2"
   ]
  },
  {
   "cell_type": "code",
   "execution_count": 5,
   "metadata": {},
   "outputs": [
    {
     "name": "stdout",
     "output_type": "stream",
     "text": [
      "What is your weight (in pounds)? 150\n",
      "What is your height (in inches)? 68\n",
      "Your BMI is:  22.80493079584775\n"
     ]
    }
   ],
   "source": [
    "# Exer-5\n",
    "weight = int(input(\"What is your weight (in pounds)? \"))\n",
    "height = int(input(\"What is your height (in inches)? \"))\n",
    "bmi = (703 * weight) / (height**2)\n",
    "print(\"Your BMI is: \",bmi)"
   ]
  },
  {
   "cell_type": "markdown",
   "metadata": {},
   "source": [
    "### Exer-6:\n",
    "1. Write a program to display the days of the week on separate lines using a <b> single </b> print statement <br><br>\n",
    "\n",
    "2. Write a program to output the following wages of employees (some are bi-weekly, some are monthly, and some, yearly, explaining why the amounts are so different). Be sure to properly format their wages (using F-strings) such that they are <b>aligned (at the decimal point), with proper formatting:</b> <br>\n",
    "   - Andrew $45,400.66 <br>\n",
    "   - Jack   \\$999.99 <br>\n",
    "   - Mary   \\$2,700.05 <br>\n",
    "   - Lisa   \\$100,030.45 <br>\n",
    "   \n",
    "Sample output follows:   "
   ]
  },
  {
   "cell_type": "raw",
   "metadata": {},
   "source": [
    "The salary for Andrew is \t$ 45,400.66\n",
    "The salary for Jack is \t\t$    999.99\n",
    "The salary for Mary is \t\t$  2,700.05\n",
    "The salary for Lisa is \t\t$100,030.45"
   ]
  },
  {
   "cell_type": "code",
   "execution_count": 9,
   "metadata": {},
   "outputs": [
    {
     "name": "stdout",
     "output_type": "stream",
     "text": [
      "Monday\n",
      "Tuesday\n",
      "Wednesday\n",
      "Thursday\n",
      "Friday\n",
      "Saturday\n",
      "Sunday\n"
     ]
    }
   ],
   "source": [
    "# Exer-6 #1 \n",
    "\n",
    "print(f\"Monday\\nTuesday\\nWednesday\\nThursday\\nFriday\\nSaturday\\nSunday\")"
   ]
  },
  {
   "cell_type": "code",
   "execution_count": 45,
   "metadata": {},
   "outputs": [
    {
     "name": "stdout",
     "output_type": "stream",
     "text": [
      "The salary for Andrew is    $ 45,400.66\n",
      "The salary for Jack is      $    999.99\n",
      "The salary for Mary is      $  2,700.05\n",
      "The salary for Lisa is      $100,030.45\n"
     ]
    }
   ],
   "source": [
    "# Exer-6 #2\n",
    "\n",
    "sal1 = \"45,400.66\"\n",
    "sal2 = \"999.99\"\n",
    "sal3 = \"2,700.05\"\n",
    "sal4 = \"100,030.45\"\n",
    "\n",
    "print(f'The salary for Andrew is    ${sal1:>10}')\n",
    "print(f'The salary for Jack is      ${sal2:>10}')\n",
    "print(f'The salary for Mary is      ${sal3:>10}')\n",
    "print(f'The salary for Lisa is      ${sal4:>10}')"
   ]
  }
 ],
 "metadata": {
  "kernelspec": {
   "display_name": "Python 3 (ipykernel)",
   "language": "python",
   "name": "python3"
  },
  "language_info": {
   "codemirror_mode": {
    "name": "ipython",
    "version": 3
   },
   "file_extension": ".py",
   "mimetype": "text/x-python",
   "name": "python",
   "nbconvert_exporter": "python",
   "pygments_lexer": "ipython3",
   "version": "3.9.7"
  }
 },
 "nbformat": 4,
 "nbformat_minor": 2
}
